{
 "cells": [
  {
   "cell_type": "markdown",
   "id": "957b6181-0cc6-4d6f-bc98-67bdf323c6f5",
   "metadata": {},
   "source": [
    "https://en.wikipedia.org/wiki/Lotka%E2%80%93Volterra_equations"
   ]
  },
  {
   "cell_type": "code",
   "execution_count": null,
   "id": "028b27c7-cfbc-45f2-8562-5b99de5f370d",
   "metadata": {},
   "outputs": [],
   "source": [
    "import reno"
   ]
  },
  {
   "cell_type": "code",
   "execution_count": null,
   "id": "57fb3f9e-052c-4fca-a37d-fee312ac5da8",
   "metadata": {},
   "outputs": [],
   "source": [
    "m = reno.Model(\"m\", steps=200, doc=\"Classic predator-prey interaction model example\")\n",
    "\n",
    "# make stocks to monitor the predator/prey populations over time\n",
    "m.rabbits = reno.Stock(init=100.0)\n",
    "m.foxes = reno.Stock(init=100.0) \n",
    "\n",
    "# variables that can be quickly changed to influence the equilibrium \n",
    "m.rabbit_growth_rate = reno.Variable(.1, doc=\"Alpha\")\n",
    "m.rabbit_death_rate = reno.Variable(.001, doc=\"Beta\")\n",
    "m.fox_death_rate = reno.Variable(.1, doc=\"Gamma\")\n",
    "m.fox_growth_rate = reno.Variable(.001, doc=\"Delta\")\n",
    "\n",
    "# flows that define how the stocks are influenced\n",
    "m.rabbit_births = reno.Flow(m.rabbit_growth_rate * m.rabbits)\n",
    "m.rabbit_deaths = reno.Flow(m.rabbit_death_rate * m.rabbits * m.foxes, max=m.rabbits)\n",
    "m.fox_deaths = reno.Flow(m.fox_death_rate * m.foxes, max=m.foxes)\n",
    "m.fox_births = reno.Flow(m.fox_growth_rate * m.rabbits * m.foxes)\n",
    "\n",
    "# hook up inflows/outflows for stocks \n",
    "m.rabbits += m.rabbit_births\n",
    "m.rabbits -= m.rabbit_deaths\n",
    "\n",
    "m.foxes += m.fox_births\n",
    "m.foxes -= m.fox_deaths"
   ]
  },
  {
   "cell_type": "code",
   "execution_count": null,
   "id": "549da674-430a-41af-b138-d09b811557d6",
   "metadata": {},
   "outputs": [],
   "source": [
    "m.graph()"
   ]
  },
  {
   "cell_type": "code",
   "execution_count": null,
   "id": "146c6b4c-c8d8-4a30-b1d2-cd8714df93b4",
   "metadata": {},
   "outputs": [],
   "source": [
    "print(m.get_docs())"
   ]
  },
  {
   "cell_type": "code",
   "execution_count": null,
   "id": "66ddfc3f-8cd6-471f-a925-38d785e39dc1",
   "metadata": {},
   "outputs": [],
   "source": [
    "m(fox_growth_rate=.002, rabbit_death_rate=.002, rabbits_0=120.0)\n",
    "reno.plot_refs([(m.rabbits, m.foxes)])"
   ]
  },
  {
   "cell_type": "code",
   "execution_count": null,
   "id": "21197d4a-6741-4f3e-b0cd-72834fc1c1bf",
   "metadata": {},
   "outputs": [],
   "source": [
    "m.minimum_foxes = reno.Metric(reno.series_min(m.foxes))\n",
    "m.maximum_foxes = reno.Metric(reno.series_max(m.foxes))"
   ]
  },
  {
   "cell_type": "code",
   "execution_count": null,
   "id": "7196de7f-8e14-400e-a40b-7bbe20e8a964",
   "metadata": {},
   "outputs": [],
   "source": [
    "trace = m.pymc(\n",
    "    n=1000, \n",
    "    fox_growth_rate=reno.Normal(.001, .0001), \n",
    "    rabbit_growth_rate=reno.Normal(.1, .01),\n",
    "    observations=[\n",
    "        reno.Observation(m.minimum_foxes, 5, [20]),  # likelihood normally distributed around 20 with SD of 5\n",
    "        reno.Observation(m.maximum_foxes, 5, [120]), # likelihood normally distributed around 120 with SD of 5\n",
    "    ]\n",
    ")"
   ]
  },
  {
   "cell_type": "code",
   "execution_count": null,
   "id": "d0609755-5af5-4112-bfca-ca4306c2d4aa",
   "metadata": {},
   "outputs": [],
   "source": [
    "reno.plot_trace_refs(\n",
    "    m, \n",
    "    {\"prior\": trace.prior, \"post\": trace.posterior}, \n",
    "    ref_list=[m.minimum_foxes, m.maximum_foxes, m.fox_growth_rate, m.rabbit_growth_rate, m.foxes, m.rabbits],\n",
    "    figsize=(8, 5),\n",
    ")"
   ]
  },
  {
   "cell_type": "code",
   "execution_count": null,
   "id": "f63df963-e434-45a4-b454-d1836ac76786",
   "metadata": {},
   "outputs": [],
   "source": []
  }
 ],
 "metadata": {
  "kernelspec": {
   "display_name": "Python 3 (ipykernel)",
   "language": "python",
   "name": "python3"
  },
  "language_info": {
   "codemirror_mode": {
    "name": "ipython",
    "version": 3
   },
   "file_extension": ".py",
   "mimetype": "text/x-python",
   "name": "python",
   "nbconvert_exporter": "python",
   "pygments_lexer": "ipython3",
   "version": "3.12.11"
  }
 },
 "nbformat": 4,
 "nbformat_minor": 5
}
