{
 "cells": [
  {
   "cell_type": "markdown",
   "id": "0",
   "metadata": {},
   "source": [
    "https://assets.press.princeton.edu/chapters/s2_10291.pdf\n",
    "\n",
    "(This is the One-Compartment Model of Repeated Doses, question 3 near end of above pdf)"
   ]
  },
  {
   "cell_type": "code",
   "execution_count": null,
   "id": "1",
   "metadata": {},
   "outputs": [],
   "source": [
    "import reno"
   ]
  },
  {
   "cell_type": "code",
   "execution_count": null,
   "id": "2",
   "metadata": {},
   "outputs": [],
   "source": [
    "t = reno.TimeRef()\n",
    "compartment = reno.Model(\"one_compartment_model\")\n",
    "compartment.drug_in_system = reno.Stock(doc=\"mass of medication in the compartment (\\\"person's blood serum\\\"?)\")\n",
    "compartment.ingested = reno.Flow(doc=\"Pulsed inflow of medication when dosage is taken.\")\n",
    "compartment.eliminated = reno.Flow(doc=\"Rate of change of drug leaving the system.\")\n",
    "\n",
    "compartment.absorption_fraction = reno.Variable(.12)\n",
    "compartment.dosage = reno.Variable(100 * 1000, doc=\"Dosage is 100 * 1000 micrograms\")\n",
    "compartment.start = reno.Variable(0, doc=\"Timestep of first dosage. (in hours)\")\n",
    "compartment.interval = reno.Variable(8, doc=\"Timesteps between each dosage. (in hours)\")\n",
    "\n",
    "compartment.volume = reno.Variable(3000, doc=\"Volume of blood serum, 3000 mL\") \n",
    "compartment.concentration = reno.Variable(compartment.drug_in_system / compartment.volume)\n",
    "compartment.half_life = reno.Variable(22, doc=\"Half-life of medication. (in hours)\")\n",
    "compartment.elimination_constant = reno.Variable(-reno.log(0.5) / compartment.half_life)\n",
    "\n",
    "compartment.eliminated.eq = compartment.elimination_constant * compartment.drug_in_system\n",
    "compartment.ingested.eq = compartment.absorption_fraction * reno.Piecewise(\n",
    "    [compartment.dosage, 0], \n",
    "    [\n",
    "        ((t - compartment.start) >= 0) & reno.eq((t - compartment.start) % compartment.interval, 0),\n",
    "        ((t - compartment.start) < 0) | reno.ne((t - compartment.start) % compartment.interval, 0)\n",
    "    ],\n",
    ")\n",
    "\n",
    "compartment.drug_in_system += compartment.ingested\n",
    "compartment.drug_in_system -= compartment.eliminated"
   ]
  },
  {
   "cell_type": "code",
   "execution_count": null,
   "id": "3",
   "metadata": {},
   "outputs": [],
   "source": [
    "compartment.latex()"
   ]
  },
  {
   "cell_type": "code",
   "execution_count": null,
   "id": "4",
   "metadata": {},
   "outputs": [],
   "source": [
    "ds = compartment(steps=168)"
   ]
  },
  {
   "cell_type": "code",
   "execution_count": null,
   "id": "5",
   "metadata": {},
   "outputs": [],
   "source": [
    "reno.plot_trace_refs(compartment, [ds], [compartment.concentration])"
   ]
  },
  {
   "cell_type": "code",
   "execution_count": null,
   "id": "6",
   "metadata": {},
   "outputs": [],
   "source": [
    "compartment.graph()"
   ]
  },
  {
   "cell_type": "code",
   "execution_count": null,
   "id": "7",
   "metadata": {},
   "outputs": [],
   "source": [
    "compartment.graph(sparklines=True, sparkall=True)"
   ]
  },
  {
   "cell_type": "code",
   "execution_count": null,
   "id": "8",
   "metadata": {},
   "outputs": [],
   "source": []
  }
 ],
 "metadata": {
  "kernelspec": {
   "display_name": "Python 3 (ipykernel)",
   "language": "python",
   "name": "python3"
  },
  "language_info": {
   "codemirror_mode": {
    "name": "ipython",
    "version": 3
   },
   "file_extension": ".py",
   "mimetype": "text/x-python",
   "name": "python",
   "nbconvert_exporter": "python",
   "pygments_lexer": "ipython3",
   "version": "3.13.5"
  }
 },
 "nbformat": 4,
 "nbformat_minor": 5
}
