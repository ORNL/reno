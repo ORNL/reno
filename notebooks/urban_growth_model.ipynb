{
 "cells": [
  {
   "cell_type": "markdown",
   "id": "0",
   "metadata": {},
   "source": [
    "https://ocw.mit.edu/courses/15-988-system-dynamics-self-study-fall-1998-spring-1999/7ac2f07c6b562211becc8afb0102cf88_modeling2.pdf\n",
    "\n",
    "(equations are listed and documented in the appendix)"
   ]
  },
  {
   "cell_type": "code",
   "execution_count": null,
   "id": "1",
   "metadata": {},
   "outputs": [],
   "source": [
    "%load_ext autoreload\n",
    "%autoreload 2"
   ]
  },
  {
   "cell_type": "code",
   "execution_count": null,
   "id": "2",
   "metadata": {},
   "outputs": [],
   "source": [
    "import reno"
   ]
  },
  {
   "cell_type": "code",
   "execution_count": null,
   "id": "3",
   "metadata": {},
   "outputs": [],
   "source": [
    "b = reno.Model(\"Business sector\")\n",
    "b.structures = reno.Stock(init=1000, doc=\"Number of business structures in the city.\")\n",
    "b.construction = reno.Flow(doc=\"Rate of construction of business structures. It is affected by the number of already existing business structures, a normal construction fraction, and the availability of land and labor.\")\n",
    "b.demolition = reno.Flow(doc=\"Rate of demolition of business structures.\")\n",
    "\n",
    "b.average_structure_lifetime = reno.Variable(50, doc=\"Average lifetime of a business structure.\")\n",
    "b.construction_fraction = reno.Variable(0.02, doc=\"Normal rate of construction of business structure per existing business structure.\")\n",
    "b.jobs = reno.Variable(doc=\"Number of jobs provided by the existing business structures. It is the product of the number of business structures and the average number of jobs per structure.\")\n",
    "b.jobs_per_structure = reno.Variable(20, doc=\"The number of jobs provided by each structure.\")\n",
    "b.labor_availability = reno.Variable(doc=\"The ratio between the labor force and the number of available jobs.\")\n",
    "b.land_area = reno.Variable(5000, doc=\"Total land area available for commercial development.\")\n",
    "b.land_fraction_occupied = reno.Variable(doc=\"The fraction of commercial land that has already been developed.\")\n",
    "b.land_per_structure = reno.Variable(1, doc=\"The amount of land required by each business structure.\")\n",
    "\n",
    "b.labor_availability_multiplier = reno.Variable(\n",
    "    reno.interpolate(\n",
    "        b.labor_availability, \n",
    "        [0.0, 0.2, 0.4, 0.6, 0.8, 1.00, 1.20, 1.4, 1.6, 1.8, 2.0],\n",
    "        [0.05, .105, .225, .36, .54, .84, 1.24, 2.36, 3.34, 3.86, 4.0]\n",
    "    )\n",
    ")\n",
    "\n",
    "b.land_availability_multiplier = reno.Variable(\n",
    "    reno.interpolate(\n",
    "        b.land_fraction_occupied,\n",
    "        [0.0, 0.1, 0.2, 0.3, 0.4, 0.5, 0.6, 0.7, 0.8, 0.9, 1.0],\n",
    "        [1.0, 2.3, 2.98, 3.34, 3.48, 3.5, 3.44, 3.12, 2.3, 1.0, 0.0]\n",
    "    )\n",
    ")\n",
    "\n",
    "b.structures += b.construction\n",
    "b.structures -= b.demolition\n",
    "b.construction.eq = b.structures * b.construction_fraction * b.labor_availability_multiplier * b.land_availability_multiplier\n",
    "b.demolition.eq = b.structures / b.average_structure_lifetime\n",
    "\n",
    "b.jobs.eq = b.structures * b.jobs_per_structure\n",
    "b.land_fraction_occupied.eq = b.structures * b.land_per_structure / b.land_area\n"
   ]
  },
  {
   "cell_type": "code",
   "execution_count": null,
   "id": "4",
   "metadata": {},
   "outputs": [],
   "source": [
    "p = reno.Model(\"Population sector\")\n",
    "p.population = reno.Stock(init=50_000, doc=\"The number of people living in the urban area.\")\n",
    "p.in_migration = reno.Flow(doc=\"The number of people who move into the urban area each year. It is affected by the current population, a normal fraction of in-migration, and the availability of jobs.\")\n",
    "p.births = reno.Flow(doc=\"The number of people born in the area per year.\")\n",
    "p.out_migration = reno.Flow(doc=\"The number of people who leave the urban area each year.\")\n",
    "p.deaths = reno.Flow(doc=\"Number of people who die each year.\")\n",
    "\n",
    "p.average_lifetime = reno.Variable(66.7, doc=\"The average lifetime of a person living in the urban area is approximately 67 years.\")\n",
    "p.birth_fraction = reno.Variable(0.015, doc=\"The fraction of the population that reproduces each year.\")\n",
    "p.in_migration_normal = reno.Variable(0.08, doc=\"The fraction of the population that immigrates each year under normal conditions.\")\n",
    "p.labor_force = reno.Variable(doc=\"The number of people who are eligible to work. It is a constant fraction of the population.\")\n",
    "p.labor_participation_fraction = reno.Variable(0.35, doc=\"The fraction of the total population that is willing and able to work.\")\n",
    "p.out_migration_fraction = reno.Variable(0.08, doc=\"The fraction of the population that emigrates each year.\")\n",
    "\n",
    "p.job_attractiveness_multiplier = reno.Variable(\n",
    "    reno.interpolate(\n",
    "        b.labor_availability,\n",
    "        [0.0, 0.2, 0.4, 0.6, 0.8, 1.0, 1.2, 1.4, 1.6, 1.8, 2.0],\n",
    "        [4.0, 3.95, 3.82, 3.56, 2.86, 1.24, 0.64, 0.32, 0.18, 0.105, 0.075]\n",
    "    ),\n",
    "    doc=\"The multiplier shows the effect of labor availability on immigration. When there are many available jobs (labor availability is less than 1), people are inclined to move to the city. When there are not enough available jobs (labor availability is greater than 1), people tend not to immigrate to the urban area.\"\n",
    ")\n",
    "\n",
    "p.population += p.in_migration\n",
    "p.population += p.births\n",
    "p.population -= p.out_migration\n",
    "p.population -= p.deaths\n",
    "\n",
    "p.in_migration.eq = p.population * p.in_migration_normal * p.job_attractiveness_multiplier\n",
    "p.births.eq = p.population * p.birth_fraction\n",
    "p.out_migration.eq = p.population * p.out_migration_fraction\n",
    "p.deaths.eq = p.population / p.average_lifetime\n",
    "\n",
    "p.labor_force.eq = p.population * p.labor_participation_fraction\n",
    "\n"
   ]
  },
  {
   "cell_type": "code",
   "execution_count": null,
   "id": "5",
   "metadata": {},
   "outputs": [],
   "source": [
    "b.labor_availability.eq = p.labor_force / b.jobs"
   ]
  },
  {
   "cell_type": "code",
   "execution_count": null,
   "id": "6",
   "metadata": {},
   "outputs": [],
   "source": [
    "urban_growth = reno.Model()\n",
    "urban_growth.business = b\n",
    "urban_growth.population = p"
   ]
  },
  {
   "cell_type": "code",
   "execution_count": null,
   "id": "7",
   "metadata": {},
   "outputs": [],
   "source": [
    "urban_growth.graph()"
   ]
  },
  {
   "cell_type": "code",
   "execution_count": null,
   "id": "8",
   "metadata": {},
   "outputs": [],
   "source": [
    "urban_growth.latex()"
   ]
  },
  {
   "cell_type": "code",
   "execution_count": null,
   "id": "9",
   "metadata": {},
   "outputs": [],
   "source": [
    "base_run = urban_growth(steps=80)\n",
    "base_run"
   ]
  },
  {
   "cell_type": "code",
   "execution_count": null,
   "id": "10",
   "metadata": {},
   "outputs": [],
   "source": [
    "reno.plot_trace_refs(urban_growth, [base_run], [b.structures, p.population, b.labor_availability], figsize=(15, 5))"
   ]
  },
  {
   "cell_type": "code",
   "execution_count": null,
   "id": "11",
   "metadata": {},
   "outputs": [],
   "source": [
    "base_run.population_population.values[0][-1], base_run.business_structures.values[0][-1]"
   ]
  },
  {
   "cell_type": "code",
   "execution_count": null,
   "id": "12",
   "metadata": {},
   "outputs": [],
   "source": [
    "t = reno.TimeRef()\n",
    "urban_growth.business.land_area.eq = reno.Piecewise([5000, 7500], [t < 10, t >= 10])\n",
    "urban_growth.business.structures.init = 4499\n",
    "urban_growth.population.population.init = 277533\n",
    "more_land = urban_growth(steps=80)\n",
    "more_land"
   ]
  },
  {
   "cell_type": "code",
   "execution_count": null,
   "id": "13",
   "metadata": {},
   "outputs": [],
   "source": [
    "reno.plot_trace_refs(urban_growth, {\"base\": base_run, \"more_land\": more_land}, [b.structures, p.population, b.labor_availability], figsize=(15, 5))"
   ]
  },
  {
   "cell_type": "code",
   "execution_count": null,
   "id": "14",
   "metadata": {},
   "outputs": [],
   "source": []
  },
  {
   "cell_type": "code",
   "execution_count": null,
   "id": "15",
   "metadata": {},
   "outputs": [],
   "source": []
  }
 ],
 "metadata": {
  "kernelspec": {
   "display_name": "Python 3 (ipykernel)",
   "language": "python",
   "name": "python3"
  },
  "language_info": {
   "codemirror_mode": {
    "name": "ipython",
    "version": 3
   },
   "file_extension": ".py",
   "mimetype": "text/x-python",
   "name": "python",
   "nbconvert_exporter": "python",
   "pygments_lexer": "ipython3",
   "version": "3.13.5"
  }
 },
 "nbformat": 4,
 "nbformat_minor": 5
}
